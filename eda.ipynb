{
 "nbformat": 4,
 "nbformat_minor": 2,
 "metadata": {
  "language_info": {
   "name": "python",
   "codemirror_mode": {
    "name": "ipython",
    "version": 3
   },
   "version": "3.7.4-final"
  },
  "orig_nbformat": 2,
  "file_extension": ".py",
  "mimetype": "text/x-python",
  "name": "python",
  "npconvert_exporter": "python",
  "pygments_lexer": "ipython3",
  "version": 3,
  "kernelspec": {
   "name": "python37464bitbasecondaa8eb8a4b6607436cb0f79bc24e9ac606",
   "display_name": "Python 3.7.4 64-bit ('base': conda)"
  }
 },
 "cells": [
  {
   "cell_type": "code",
   "execution_count": 1,
   "metadata": {},
   "outputs": [],
   "source": [
    "import pandas as pd \n",
    "import numpy as np "
   ]
  },
  {
   "cell_type": "code",
   "execution_count": 74,
   "metadata": {},
   "outputs": [],
   "source": [
    "df = pd.read_csv('states-vega.csv')"
   ]
  },
  {
   "cell_type": "markdown",
   "metadata": {},
   "source": [
    "## dropping random territories"
   ]
  },
  {
   "cell_type": "code",
   "execution_count": 42,
   "metadata": {},
   "outputs": [],
   "source": [
    "random_territories = ['Guam', 'Northern Mariana Islands', 'Virgin Islands', 'Puerto Rico']\n",
    "for state in random_territories:\n",
    "    df.drop(df[df.state == state].index,inplace=True)"
   ]
  },
  {
   "cell_type": "code",
   "execution_count": 44,
   "metadata": {},
   "outputs": [
    {
     "output_type": "execute_result",
     "data": {
      "text/plain": "array(['3/1/20', '3/2/20', '3/3/20', '3/4/20', '3/5/20', '3/6/20',\n       '3/7/20', '3/8/20', '3/9/20', '3/10/20', '3/11/20', '3/12/20',\n       '3/13/20', '3/14/20', '3/15/20', '3/16/20', '3/17/20', '3/18/20',\n       '3/19/20', '3/20/20', '3/21/20', '3/22/20', '3/23/20', '3/24/20',\n       '3/25/20', '3/26/20', '3/27/20', '3/28/20', '3/29/20', '3/30/20',\n       '3/31/20', '4/1/20', '4/2/20', '4/3/20', '4/4/20', '4/5/20',\n       '4/6/20'], dtype=object)"
     },
     "metadata": {},
     "execution_count": 44
    }
   ],
   "source": [
    "df.date.unique()"
   ]
  },
  {
   "cell_type": "code",
   "execution_count": 45,
   "metadata": {},
   "outputs": [],
   "source": [
    "## most recent day is 4/6/20\n",
    "most_recent_day = '4/6/20'"
   ]
  },
  {
   "cell_type": "markdown",
   "metadata": {},
   "source": [
    "## states with less than or equal to 25 deaths on the most recet day in the data set 4/6/2020"
   ]
  },
  {
   "cell_type": "code",
   "execution_count": 75,
   "metadata": {},
   "outputs": [],
   "source": [
    "states_less_25_deaths = df[df.date == most_recent_day]\n",
    "states_less_25_deaths = states_less_25_deaths[states_less_25_deaths.deaths <= 25]\n",
    "states_less_25_deaths = np.asarray(states_less_25_deaths.state)\n",
    "states_less_25_deaths = df[df.state.isin(states_less_25_deaths)]\n",
    "states_less_25_deaths.to_excel('data/states_25.xlsx')"
   ]
  },
  {
   "cell_type": "markdown",
   "metadata": {},
   "source": [
    "## states with between 26 and 50 deaths on most recent day"
   ]
  },
  {
   "cell_type": "code",
   "execution_count": 78,
   "metadata": {},
   "outputs": [],
   "source": [
    "states_50 = df[df.date == most_recent_day]\n",
    "states_50 = states_50[states_50.deaths > 25]\n",
    "states_50 = states_50[states_50.deaths<=50]\n",
    "states_50 = np.asarray(states_50.state)\n",
    "states_50 = df[df.state.isin(states_50)]\n",
    "states_50.to_excel('data/states_50.xlsx')"
   ]
  },
  {
   "cell_type": "markdown",
   "metadata": {},
   "source": [
    "## states with between 50 and 100 deaths on most recent day"
   ]
  },
  {
   "cell_type": "code",
   "execution_count": 79,
   "metadata": {},
   "outputs": [],
   "source": [
    "states_100 = df[df.date == most_recent_day]\n",
    "states_100 = states_100[states_100.deaths > 50]\n",
    "states_100 = states_100[states_100.deaths<=100]\n",
    "states_100 = np.asarray(states_100.state)\n",
    "states_100 = df[df.state.isin(states_100)]\n",
    "states_100.to_excel('data/states_100.xlsx')"
   ]
  },
  {
   "cell_type": "markdown",
   "metadata": {},
   "source": [
    "## states with between 100 and 350 deaths on most recent day "
   ]
  },
  {
   "cell_type": "code",
   "execution_count": 81,
   "metadata": {},
   "outputs": [],
   "source": [
    "states_350 = df[df.date == most_recent_day]\n",
    "states_350 = states_350[states_350.deaths > 100]\n",
    "states_350 = states_350[states_350.deaths<=350]\n",
    "states_350 = np.asarray(states_350.state)\n",
    "states_350 = df[df.state.isin(states_350)]\n",
    "states_350.to_excel('data/states_350.xlsx')"
   ]
  },
  {
   "cell_type": "code",
   "execution_count": 82,
   "metadata": {},
   "outputs": [],
   "source": [
    "states_upper = df[df.date == most_recent_day]\n",
    "states_upper = states_upper[states_upper.deaths > 350]\n",
    "states_upper = np.asarray(states_upper.state)\n",
    "states_upper = df[df.state.isin(states_upper)]\n",
    "states_upper.to_excel('data/states_upper.xlsx')"
   ]
  },
  {
   "cell_type": "code",
   "execution_count": null,
   "metadata": {},
   "outputs": [],
   "source": []
  }
 ]
}